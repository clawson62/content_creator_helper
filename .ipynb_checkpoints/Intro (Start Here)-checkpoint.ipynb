{
 "cells": [
  {
   "cell_type": "markdown",
   "metadata": {},
   "source": [
    "# Contents\n",
    "## Plan\n",
    "**(Completed) Collect data** relating to Lex comments on Youtube, Twitter, and mentions on Reddit\n",
    "\n",
    "**Create useful analytics** such as top questions from subscribers, average sentiment per video, etc\n",
    "\n",
    "**Repeat for popular figures** to collect and analyze their data in the effort to understand them better before podcasts\n",
    "\n",
    "**Automate** the process per new viedo and tweet and email Lex results\n",
    "\n",
    "**Further Projects** \n",
    "\n",
    "\n",
    "\n",
    "## Data Collection (Completed)\n",
    "- Twitter: ~16k Tweets containing \"lex\" AND \"fridman\" -Twint python package\n",
    "\n",
    "- Youtube: Video comments on 463 Lex Fridman videos - Youtube API v3\n",
    "\n",
    "- Reddit: ~6k posts containing \"lex\" AND \"fridman\" - PRAW API v7.2.0\n",
    "\n",
    "## Analytics\n",
    "- Find Top Questions - search for \"?\" or question words\n",
    "\n",
    "- Sentiment - Bag of Words, Fastext Twitter model, and Seq-to_Seq Twitter model\n",
    "\n",
    "- Most Talked About Topics - Part of Speech (POS) tagging, Keyword extraction\n",
    "\n",
    "\n",
    "## Popular Figures Research\n",
    "Search their Twitter feed, wiki page collection, etc\n",
    "\n",
    "\n",
    "## Automation\n",
    "Once video or tweet has collected N comments, create automated email to Lex summarizing results\n",
    "\n",
    "\n",
    "\n",
    "## Further Projects\n",
    "- F&Q page based on top questions from collected data\n",
    "- Newsletter about interesting topics/people\n",
    "- Explore other data sources such as email, LinkedIn, and Instagram\n",
    "\n",
    "\n",
    "\n"
   ]
  }
 ],
 "metadata": {
  "kernelspec": {
   "display_name": "Python 3",
   "language": "python",
   "name": "python3"
  },
  "language_info": {
   "codemirror_mode": {
    "name": "ipython",
    "version": 3
   },
   "file_extension": ".py",
   "mimetype": "text/x-python",
   "name": "python",
   "nbconvert_exporter": "python",
   "pygments_lexer": "ipython3",
   "version": "3.7.3"
  }
 },
 "nbformat": 4,
 "nbformat_minor": 2
}
